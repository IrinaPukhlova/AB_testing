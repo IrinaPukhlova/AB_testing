{
 "cells": [
  {
   "cell_type": "markdown",
   "id": "15568ffa",
   "metadata": {},
   "source": [
    "# Experiment Design"
   ]
  },
  {
   "cell_type": "markdown",
   "id": "d2c6fec9",
   "metadata": {},
   "source": [
    "## Experiment Overview"
   ]
  },
  {
   "cell_type": "markdown",
   "id": "c7235bcf",
   "metadata": {},
   "source": [
    "The experiment was running for the Learning courses site.\n",
    "\n",
    "At the time of this experiment, courses currently have two options on the course overview page: \"start free trial\", and \"access course materials\". If the student clicks \"start free trial\", they will be asked to enter their credit card information, and then they will be enrolled in a free trial for the paid version of the course. After 14 days, they will automatically be charged unless they cancel first. If the student clicks \"access course materials\", they will be able to view the videos and take the quizzes for free, but they will not receive coaching support or a verified certificate, and they will not submit their final project for feedback.\n",
    "\n",
    "\n",
    "In the experiment, was tested a change where if the student clicked \"start free trial\", they were asked how much time they had available to devote to the course. If the student indicated 5 or more hours per week, they would be taken through the checkout process as usual. If they indicated fewer than 5 hours per week, a message would appear indicating that courses usually require a greater time commitment for successful completion, and suggesting that the student might like to access the course materials for free. At this point, the student would have the option to continue enrolling in the free trial or access the course materials for free instead."
   ]
  },
  {
   "cell_type": "markdown",
   "id": "886ce873",
   "metadata": {},
   "source": [
    "### Hypothesis"
   ]
  },
  {
   "cell_type": "markdown",
   "id": "625e2554",
   "metadata": {},
   "source": [
    "The hypothesis was that this might set clearer expectations for students upfront, thus reducing the number of frustrated students who left the free trial because they didn't have enough time—without significantly reducing the number of students to continue past the free trial and eventually complete the course. \n",
    "\n",
    "If this hypothesis held true, the Learning courses site could improve the overall student experience and improve coaches' capacity to support students who are likely to complete the course."
   ]
  },
  {
   "cell_type": "markdown",
   "id": "c39a1d0f",
   "metadata": {},
   "source": [
    "### A/B testing experiment"
   ]
  },
  {
   "cell_type": "markdown",
   "id": "029f25dc",
   "metadata": {},
   "source": [
    "<b> Goal </b>\n",
    "\n",
    "This experiment is designed to understand whether the change of page will help to filter out students who don’t have much time for study, but also not reduce the number of students who will make the payment after completing their free trial."
   ]
  },
  {
   "cell_type": "markdown",
   "id": "718f7fc0",
   "metadata": {},
   "source": [
    "We have control and experiment groups. \n",
    "For the control group, the version of the page is not changed. And the experimental group, when clicking on the \"start free trial\", will get an additional question about the number of hours per week that a person is willing to devote to study."
   ]
  },
  {
   "cell_type": "markdown",
   "id": "47e9b3dc",
   "metadata": {},
   "source": [
    "<b> What are the units in the population you are going to run the test on? (unit of diversion) </b>\n",
    "\n",
    "The unit of diversion is a cookie, although if the student enrolls in the free trial, they are tracked by user-id from that point forward. The same user-id cannot enroll in the free trial twice. For users that do not enroll, their user-id is not tracked in the experiment, even if they were signed in when they visited the course overview page."
   ]
  },
  {
   "cell_type": "markdown",
   "id": "dd34a5db",
   "metadata": {},
   "source": [
    "## Choosing and Characterizing Metrics"
   ]
  },
  {
   "cell_type": "markdown",
   "id": "6afae0e4",
   "metadata": {},
   "source": [
    "A/B Testing requires two types of metrics: Invariant Metrics and Evaluation Metrics.\n",
    "\n",
    "Invariant metrics (for sanity checking): \n",
    "- Metrics that shouldn’t change between your test and control groups\n",
    "\n",
    "Evaluation Metrics:\n",
    "- Metrics in which we expect to see change, and which are relevant to the business goals. "
   ]
  },
  {
   "cell_type": "markdown",
   "id": "b813946c",
   "metadata": {},
   "source": [
    "### Invariant Metrics"
   ]
  },
  {
   "cell_type": "markdown",
   "id": "c1ee2cb1",
   "metadata": {},
   "source": [
    " - <b>Number of cookies</b>: That is, number of unique cookies to view the course overview page. (dmin=3000)\n",
    " - <b>Number of clicks</b>: That is, number of unique cookies to click the \"Start free trial\" button (which happens before the free trial screener is trigger). (dmin=240)\n",
    " - <b>Click-through-probability (CTP)</b>: That is, number of unique cookies to click the \"Start free trial\" button divided by number of unique cookies to view the course overview page. (dmin=0.01)"
   ]
  },
  {
   "cell_type": "markdown",
   "id": "08d9cd6e",
   "metadata": {},
   "source": [
    "### Evaluation Metrics"
   ]
  },
  {
   "cell_type": "markdown",
   "id": "404317a9",
   "metadata": {},
   "source": [
    "- <b>Gross conversion</b>: That is, number of user-ids to complete checkout and enroll in the free trial divided by number of unique cookies to click the \"Start free trial\" button. (dmin= 0.01)\n",
    "- <b>Retention</b>: That is, number of user-ids to remain enrolled past the 14-day boundary (and thus make at least one payment) divided by number of user-ids to complete checkout. (dmin=0.01)\n",
    "- <b>Net conversion</b>: That is, number of user-ids to remain enrolled past the 14-day boundary (and thus make at least one payment) divided by the number of unique cookies to click the \"Start free trial\" button. (dmin= 0.0075)"
   ]
  },
  {
   "cell_type": "markdown",
   "id": "387a500f",
   "metadata": {},
   "source": [
    "## Measuring Variability"
   ]
  },
  {
   "cell_type": "markdown",
   "id": "9a695753",
   "metadata": {},
   "source": [
    "For measuring variability, I need to estimate the standard deviation of evaluation metrics analytically, which also will be helpful later to determine the sizing of the experiment to analyze confidence intervals and draw conclusions."
   ]
  },
  {
   "cell_type": "markdown",
   "id": "e2c7446b",
   "metadata": {},
   "source": [
    "### The Baseline Values"
   ]
  },
  {
   "cell_type": "markdown",
   "id": "515500eb",
   "metadata": {},
   "source": [
    "Before starting the experiment, we need to know what is baseline values of my evaluation metrics, that is, how the metrics behaved before the experiment.\n",
    "\n",
    "The following estimates of the baseline values (based on daily traffic) offer:"
   ]
  },
  {
   "cell_type": "code",
   "execution_count": 1,
   "id": "4227ac6f",
   "metadata": {},
   "outputs": [
    {
     "data": {
      "text/html": [
       "<div>\n",
       "<style scoped>\n",
       "    .dataframe tbody tr th:only-of-type {\n",
       "        vertical-align: middle;\n",
       "    }\n",
       "\n",
       "    .dataframe tbody tr th {\n",
       "        vertical-align: top;\n",
       "    }\n",
       "\n",
       "    .dataframe thead th {\n",
       "        text-align: right;\n",
       "    }\n",
       "</style>\n",
       "<table border=\"1\" class=\"dataframe\">\n",
       "  <thead>\n",
       "    <tr style=\"text-align: right;\">\n",
       "      <th></th>\n",
       "      <th>Metric</th>\n",
       "      <th>Description</th>\n",
       "      <th>Value</th>\n",
       "    </tr>\n",
       "  </thead>\n",
       "  <tbody>\n",
       "    <tr>\n",
       "      <th>0</th>\n",
       "      <td>Number of cookies</td>\n",
       "      <td>Unique cookies to view course page per day</td>\n",
       "      <td>40000.000000</td>\n",
       "    </tr>\n",
       "    <tr>\n",
       "      <th>1</th>\n",
       "      <td>Number of clicks</td>\n",
       "      <td>Unique cookies click \"Start free trial\" per day</td>\n",
       "      <td>3200.000000</td>\n",
       "    </tr>\n",
       "    <tr>\n",
       "      <th>2</th>\n",
       "      <td>Number of enrollments</td>\n",
       "      <td>Enrollments per day</td>\n",
       "      <td>660.000000</td>\n",
       "    </tr>\n",
       "    <tr>\n",
       "      <th>3</th>\n",
       "      <td>Click-through-probability(CTP)</td>\n",
       "      <td>Click-through-probability on \"Start free trial\"</td>\n",
       "      <td>0.080000</td>\n",
       "    </tr>\n",
       "    <tr>\n",
       "      <th>4</th>\n",
       "      <td>Gross conversion</td>\n",
       "      <td>Probability of enrolling, given click</td>\n",
       "      <td>0.206250</td>\n",
       "    </tr>\n",
       "    <tr>\n",
       "      <th>5</th>\n",
       "      <td>Retention</td>\n",
       "      <td>Probability of payment, given enroll</td>\n",
       "      <td>0.530000</td>\n",
       "    </tr>\n",
       "    <tr>\n",
       "      <th>6</th>\n",
       "      <td>Net conversion</td>\n",
       "      <td>Probability of payment, given click</td>\n",
       "      <td>0.109313</td>\n",
       "    </tr>\n",
       "  </tbody>\n",
       "</table>\n",
       "</div>"
      ],
      "text/plain": [
       "                           Metric  \\\n",
       "0               Number of cookies   \n",
       "1                Number of clicks   \n",
       "2           Number of enrollments   \n",
       "3  Click-through-probability(CTP)   \n",
       "4                Gross conversion   \n",
       "5                       Retention   \n",
       "6                  Net conversion   \n",
       "\n",
       "                                       Description         Value  \n",
       "0       Unique cookies to view course page per day  40000.000000  \n",
       "1  Unique cookies click \"Start free trial\" per day   3200.000000  \n",
       "2                              Enrollments per day    660.000000  \n",
       "3  Click-through-probability on \"Start free trial\"      0.080000  \n",
       "4            Probability of enrolling, given click      0.206250  \n",
       "5             Probability of payment, given enroll      0.530000  \n",
       "6              Probability of payment, given click      0.109313  "
      ]
     },
     "execution_count": 1,
     "metadata": {},
     "output_type": "execute_result"
    }
   ],
   "source": [
    "import pandas as pd\n",
    "import math as mt\n",
    "\n",
    "# source link - https://docs.google.com/spreadsheets/d/1MYNUtC47Pg8hdoCjOXaHqF-thheGpUshrFA21BAJnNc/edit#gid=0\n",
    "baseline_values = pd.DataFrame({'Metric':['Number of cookies', 'Number of clicks', 'Number of enrollments', \n",
    "                                   'Click-through-probability(CTP)', 'Gross conversion', 'Retention', 'Net conversion'],\n",
    "                         'Description':['Unique cookies to view course page per day',\n",
    "                                  'Unique cookies click \"Start free trial\" per day',\n",
    "                                  'Enrollments per day',\n",
    "                                  'Click-through-probability on \"Start free trial\"',\n",
    "                                  'Probability of enrolling, given click',\n",
    "                                  'Probability of payment, given enroll',\n",
    "                                  'Probability of payment, given click'],\n",
    "                         'Value':[40000, 3200, 660, 0.08, 0.20625, 0.53, 0.1093125]})\n",
    "baseline_values"
   ]
  },
  {
   "cell_type": "markdown",
   "id": "c2c1d552",
   "metadata": {},
   "source": [
    "### Sample size assumption"
   ]
  },
  {
   "cell_type": "markdown",
   "id": "daf6c116",
   "metadata": {},
   "source": [
    "For each evaluation metric, I need to make an analytic estimate of its standard deviation, given a sample size of 5,000 cookies visiting the course overview page (a condition from the project). This sample size was chosen to be smaller than the \"population\"  (Unique cookies to view course page per day), and large enough to have two groups."
   ]
  },
  {
   "cell_type": "markdown",
   "id": "8bf2cb3a",
   "metadata": {},
   "source": [
    "I rescaled the baseline values in view of a sample size of 5,000 cookies. This rescale applies only to quantitative metrics, i.e., the number of cookies, clicks, and enrollments."
   ]
  },
  {
   "cell_type": "code",
   "execution_count": 2,
   "id": "caeadb32",
   "metadata": {},
   "outputs": [
    {
     "data": {
      "text/html": [
       "<div>\n",
       "<style scoped>\n",
       "    .dataframe tbody tr th:only-of-type {\n",
       "        vertical-align: middle;\n",
       "    }\n",
       "\n",
       "    .dataframe tbody tr th {\n",
       "        vertical-align: top;\n",
       "    }\n",
       "\n",
       "    .dataframe thead th {\n",
       "        text-align: right;\n",
       "    }\n",
       "</style>\n",
       "<table border=\"1\" class=\"dataframe\">\n",
       "  <thead>\n",
       "    <tr style=\"text-align: right;\">\n",
       "      <th></th>\n",
       "      <th>Metric</th>\n",
       "      <th>Description</th>\n",
       "      <th>Value</th>\n",
       "      <th>Sample_value</th>\n",
       "    </tr>\n",
       "  </thead>\n",
       "  <tbody>\n",
       "    <tr>\n",
       "      <th>0</th>\n",
       "      <td>Number of cookies</td>\n",
       "      <td>Unique cookies to view course page per day</td>\n",
       "      <td>40000.000000</td>\n",
       "      <td>5000.000000</td>\n",
       "    </tr>\n",
       "    <tr>\n",
       "      <th>1</th>\n",
       "      <td>Number of clicks</td>\n",
       "      <td>Unique cookies click \"Start free trial\" per day</td>\n",
       "      <td>3200.000000</td>\n",
       "      <td>400.000000</td>\n",
       "    </tr>\n",
       "    <tr>\n",
       "      <th>2</th>\n",
       "      <td>Number of enrollments</td>\n",
       "      <td>Enrollments per day</td>\n",
       "      <td>660.000000</td>\n",
       "      <td>82.500000</td>\n",
       "    </tr>\n",
       "    <tr>\n",
       "      <th>3</th>\n",
       "      <td>Click-through-probability(CTP)</td>\n",
       "      <td>Click-through-probability on \"Start free trial\"</td>\n",
       "      <td>0.080000</td>\n",
       "      <td>0.080000</td>\n",
       "    </tr>\n",
       "    <tr>\n",
       "      <th>4</th>\n",
       "      <td>Gross conversion</td>\n",
       "      <td>Probability of enrolling, given click</td>\n",
       "      <td>0.206250</td>\n",
       "      <td>0.206250</td>\n",
       "    </tr>\n",
       "    <tr>\n",
       "      <th>5</th>\n",
       "      <td>Retention</td>\n",
       "      <td>Probability of payment, given enroll</td>\n",
       "      <td>0.530000</td>\n",
       "      <td>0.530000</td>\n",
       "    </tr>\n",
       "    <tr>\n",
       "      <th>6</th>\n",
       "      <td>Net conversion</td>\n",
       "      <td>Probability of payment, given click</td>\n",
       "      <td>0.109313</td>\n",
       "      <td>0.109313</td>\n",
       "    </tr>\n",
       "  </tbody>\n",
       "</table>\n",
       "</div>"
      ],
      "text/plain": [
       "                           Metric  \\\n",
       "0               Number of cookies   \n",
       "1                Number of clicks   \n",
       "2           Number of enrollments   \n",
       "3  Click-through-probability(CTP)   \n",
       "4                Gross conversion   \n",
       "5                       Retention   \n",
       "6                  Net conversion   \n",
       "\n",
       "                                       Description         Value  Sample_value  \n",
       "0       Unique cookies to view course page per day  40000.000000   5000.000000  \n",
       "1  Unique cookies click \"Start free trial\" per day   3200.000000    400.000000  \n",
       "2                              Enrollments per day    660.000000     82.500000  \n",
       "3  Click-through-probability on \"Start free trial\"      0.080000      0.080000  \n",
       "4            Probability of enrolling, given click      0.206250      0.206250  \n",
       "5             Probability of payment, given enroll      0.530000      0.530000  \n",
       "6              Probability of payment, given click      0.109313      0.109313  "
      ]
     },
     "execution_count": 2,
     "metadata": {},
     "output_type": "execute_result"
    }
   ],
   "source": [
    "ratio = 5000 / 40000\n",
    "baseline_values['Sample_value'] = 0\n",
    "baseline_values.loc[0:2, 'Sample_value'] = baseline_values['Value'][0:3] * ratio\n",
    "baseline_values.loc[3:6, 'Sample_value'] = baseline_values['Value'][3:7]\n",
    "baseline_values"
   ]
  },
  {
   "cell_type": "markdown",
   "id": "45691587",
   "metadata": {},
   "source": [
    "### Measuring  Standard Deviation of Evaluation Metrics"
   ]
  },
  {
   "cell_type": "markdown",
   "id": "d2dcb8b3",
   "metadata": {},
   "source": [
    "I can assume metrics are binomial distributed (because these metrics are metrics of probability), so we can use this formula for the standard deviation:\n",
    "$$ SD = \\sqrt{ \\frac{\\hat{p}*(1-\\hat{p})}{n}} $$\n",
    "\n",
    "$ \\hat{p} $ is a probability of the event happening,\n",
    "\n",
    "$ n $ is a sample size"
   ]
  },
  {
   "cell_type": "code",
   "execution_count": 3,
   "id": "15dae6e2",
   "metadata": {},
   "outputs": [],
   "source": [
    "# function for calculationg of the standard deviation\n",
    "def st_deviation (p, n):\n",
    "    return round(mt.sqrt(p * (1 - p)/n), 4)"
   ]
  },
  {
   "cell_type": "code",
   "execution_count": 4,
   "id": "66708bd0",
   "metadata": {},
   "outputs": [],
   "source": [
    "# Creating of table with standard deviation\n",
    "standard_deviation = pd.DataFrame()\n",
    "standard_deviation['Metric'] = baseline_values['Metric'][4:7]\n",
    "standard_deviation['SD'] = 0\n",
    "standard_deviation = standard_deviation.reset_index(drop= True)"
   ]
  },
  {
   "cell_type": "markdown",
   "id": "0c54ca70",
   "metadata": {},
   "source": [
    "#### Standard Deviation of Gross Conversion"
   ]
  },
  {
   "cell_type": "markdown",
   "id": "46d6a255",
   "metadata": {},
   "source": [
    "$ \\hat{p} $ is probability of enrolling, given click, or 0.206250, and $ n $ is number of clicks or 400"
   ]
  },
  {
   "cell_type": "code",
   "execution_count": 5,
   "id": "ce4696ac",
   "metadata": {},
   "outputs": [],
   "source": [
    "sd1 = st_deviation (baseline_values['Sample_value'][4], baseline_values['Sample_value'][1])"
   ]
  },
  {
   "cell_type": "code",
   "execution_count": 6,
   "id": "f6b34aeb",
   "metadata": {},
   "outputs": [
    {
     "name": "stderr",
     "output_type": "stream",
     "text": [
      "C:\\Users\\Irinelle\\AppData\\Local\\Temp\\ipykernel_1520\\4225391599.py:1: SettingWithCopyWarning: \n",
      "A value is trying to be set on a copy of a slice from a DataFrame\n",
      "\n",
      "See the caveats in the documentation: https://pandas.pydata.org/pandas-docs/stable/user_guide/indexing.html#returning-a-view-versus-a-copy\n",
      "  standard_deviation['SD'].loc[0] = sd1\n"
     ]
    }
   ],
   "source": [
    "standard_deviation['SD'].loc[0] = sd1"
   ]
  },
  {
   "cell_type": "markdown",
   "id": "45089d57",
   "metadata": {},
   "source": [
    "#### Standard Deviation of Retention"
   ]
  },
  {
   "cell_type": "markdown",
   "id": "c0eba06d",
   "metadata": {},
   "source": [
    "$ \\hat{p} $ is probability of payment, given enroll, or 0.530000, and $ n $ is number of enrollments or 82.5"
   ]
  },
  {
   "cell_type": "code",
   "execution_count": 7,
   "id": "3cb74135",
   "metadata": {},
   "outputs": [],
   "source": [
    "sd2 = st_deviation (baseline_values['Sample_value'][5], baseline_values['Sample_value'][2])"
   ]
  },
  {
   "cell_type": "code",
   "execution_count": 8,
   "id": "f243f567",
   "metadata": {},
   "outputs": [],
   "source": [
    "standard_deviation['SD'].loc[1] = sd2"
   ]
  },
  {
   "cell_type": "markdown",
   "id": "844efd79",
   "metadata": {},
   "source": [
    "#### Standard Deviation of Net conversion"
   ]
  },
  {
   "cell_type": "markdown",
   "id": "8c0b7074",
   "metadata": {},
   "source": [
    "$ \\hat{p} $ is probability of payment, given enroll, or 0.109313, and $ n $ is number of clicks or 400"
   ]
  },
  {
   "cell_type": "code",
   "execution_count": 9,
   "id": "e14b9bae",
   "metadata": {},
   "outputs": [],
   "source": [
    "sd3 = st_deviation (baseline_values['Sample_value'][6], baseline_values['Sample_value'][1])\n",
    "standard_deviation['SD'].loc[2] = sd3"
   ]
  },
  {
   "cell_type": "markdown",
   "id": "46530f5a",
   "metadata": {},
   "source": [
    "#### Analytical Standard Deviation for Evaluation Metrics"
   ]
  },
  {
   "cell_type": "code",
   "execution_count": 10,
   "id": "c3924674",
   "metadata": {},
   "outputs": [
    {
     "data": {
      "text/html": [
       "<div>\n",
       "<style scoped>\n",
       "    .dataframe tbody tr th:only-of-type {\n",
       "        vertical-align: middle;\n",
       "    }\n",
       "\n",
       "    .dataframe tbody tr th {\n",
       "        vertical-align: top;\n",
       "    }\n",
       "\n",
       "    .dataframe thead th {\n",
       "        text-align: right;\n",
       "    }\n",
       "</style>\n",
       "<table border=\"1\" class=\"dataframe\">\n",
       "  <thead>\n",
       "    <tr style=\"text-align: right;\">\n",
       "      <th></th>\n",
       "      <th>Metric</th>\n",
       "      <th>SD</th>\n",
       "    </tr>\n",
       "  </thead>\n",
       "  <tbody>\n",
       "    <tr>\n",
       "      <th>0</th>\n",
       "      <td>Gross conversion</td>\n",
       "      <td>0.0202</td>\n",
       "    </tr>\n",
       "    <tr>\n",
       "      <th>1</th>\n",
       "      <td>Retention</td>\n",
       "      <td>0.0549</td>\n",
       "    </tr>\n",
       "    <tr>\n",
       "      <th>2</th>\n",
       "      <td>Net conversion</td>\n",
       "      <td>0.0156</td>\n",
       "    </tr>\n",
       "  </tbody>\n",
       "</table>\n",
       "</div>"
      ],
      "text/plain": [
       "             Metric      SD\n",
       "0  Gross conversion  0.0202\n",
       "1         Retention  0.0549\n",
       "2    Net conversion  0.0156"
      ]
     },
     "execution_count": 10,
     "metadata": {},
     "output_type": "execute_result"
    }
   ],
   "source": [
    "standard_deviation"
   ]
  },
  {
   "cell_type": "markdown",
   "id": "16d5759a",
   "metadata": {},
   "source": [
    "## Sizing"
   ]
  },
  {
   "cell_type": "markdown",
   "id": "dbb1adcb",
   "metadata": {},
   "source": [
    "With $ \\alpha $ (significance level or probability of Type I Error)=0.05 (5%) and $ \\beta $ (power)=0.2, using the analytic estimates of variance, I need to calculate how many pageviews total (across both groups) I need to collect to adequately power the experiment? That is, to determine the minimum size for each group of experiment with enough power for each metric."
   ]
  },
  {
   "cell_type": "markdown",
   "id": "200df146",
   "metadata": {},
   "source": [
    "### Using sample size calculator"
   ]
  },
  {
   "cell_type": "markdown",
   "id": "b022b60b",
   "metadata": {},
   "source": [
    "https://www.evanmiller.org/ab-testing/sample-size.html\n",
    "\n",
    "<b> Gross conversion </b>\n",
    "\n",
    "Baseline rate: 20.625%\n",
    "\n",
    "Minimum Detectable Effect: 0.01\n",
    "\n",
    "Sample size (from calculator): 25835 clicks/group\n",
    "\n",
    "Total sample size (for 2 groups): 25835*2 = 51670 clicks\n",
    "\n",
    "Pageviews= 51670 / (clicks / pageviews) = 51670 / 0.08 = 645875\n",
    "\n",
    "\n",
    "<b> Retention </b>\n",
    "\n",
    "Baseline rate: 53%\n",
    "\n",
    "Minimum Detectable Effect: 0.01 \n",
    "\n",
    "Sample size(from calculator): 39115 enrolls/group\n",
    "\n",
    "Total sample size: 39115*2 = 78230 enrolls\n",
    "\n",
    "Pageviews= 78230 / (enrolls / pageviews)= 78230 / (660/40000) = 4741212\n",
    "\n",
    "<b> Net conversion </b>\n",
    "\n",
    "Baseline rate: 10.9313%\n",
    "\n",
    "Minimum Detectable Effect: 0.0075\n",
    "\n",
    "Sample size: 27413 clicks/group\n",
    "\n",
    "Total sample size: 27413*2=54826 clicks\n",
    "\n",
    "Pageviews= 54826 / (clicks / pageviews) = 54826 / 0.08 = 685325"
   ]
  },
  {
   "cell_type": "code",
   "execution_count": 11,
   "id": "284decee",
   "metadata": {},
   "outputs": [
    {
     "data": {
      "text/html": [
       "<div>\n",
       "<style scoped>\n",
       "    .dataframe tbody tr th:only-of-type {\n",
       "        vertical-align: middle;\n",
       "    }\n",
       "\n",
       "    .dataframe tbody tr th {\n",
       "        vertical-align: top;\n",
       "    }\n",
       "\n",
       "    .dataframe thead th {\n",
       "        text-align: right;\n",
       "    }\n",
       "</style>\n",
       "<table border=\"1\" class=\"dataframe\">\n",
       "  <thead>\n",
       "    <tr style=\"text-align: right;\">\n",
       "      <th></th>\n",
       "      <th>Metric</th>\n",
       "      <th>Sample size</th>\n",
       "      <th>Pageviews</th>\n",
       "    </tr>\n",
       "  </thead>\n",
       "  <tbody>\n",
       "    <tr>\n",
       "      <th>0</th>\n",
       "      <td>Gross conversion</td>\n",
       "      <td>51670</td>\n",
       "      <td>645875</td>\n",
       "    </tr>\n",
       "    <tr>\n",
       "      <th>1</th>\n",
       "      <td>Retention</td>\n",
       "      <td>78230</td>\n",
       "      <td>4741212</td>\n",
       "    </tr>\n",
       "    <tr>\n",
       "      <th>2</th>\n",
       "      <td>Net conversion</td>\n",
       "      <td>54826</td>\n",
       "      <td>685325</td>\n",
       "    </tr>\n",
       "  </tbody>\n",
       "</table>\n",
       "</div>"
      ],
      "text/plain": [
       "             Metric  Sample size  Pageviews\n",
       "0  Gross conversion        51670     645875\n",
       "1         Retention        78230    4741212\n",
       "2    Net conversion        54826     685325"
      ]
     },
     "execution_count": 11,
     "metadata": {},
     "output_type": "execute_result"
    }
   ],
   "source": [
    "sample_sizing = pd.DataFrame({'Metric':['Gross conversion', 'Retention', 'Net conversion'],\n",
    "                         'Sample size':[51670, 78230, 54826],\n",
    "                         'Pageviews':[645875, 4741212, 685325]})\n",
    "sample_sizing"
   ]
  },
  {
   "cell_type": "markdown",
   "id": "58e703ed",
   "metadata": {},
   "source": [
    "The number of pageviews number that is sufficient for all metrics is 4741212"
   ]
  },
  {
   "cell_type": "markdown",
   "id": "9055072b",
   "metadata": {},
   "source": [
    "## Choosing Duration"
   ]
  },
  {
   "cell_type": "markdown",
   "id": "eba41d3c",
   "metadata": {},
   "source": [
    "We have 40,000 page views per day. If we use 100% of traffic for our experiment, we need this duration:"
   ]
  },
  {
   "cell_type": "code",
   "execution_count": 12,
   "id": "f407562b",
   "metadata": {},
   "outputs": [
    {
     "data": {
      "text/html": [
       "<div>\n",
       "<style scoped>\n",
       "    .dataframe tbody tr th:only-of-type {\n",
       "        vertical-align: middle;\n",
       "    }\n",
       "\n",
       "    .dataframe tbody tr th {\n",
       "        vertical-align: top;\n",
       "    }\n",
       "\n",
       "    .dataframe thead th {\n",
       "        text-align: right;\n",
       "    }\n",
       "</style>\n",
       "<table border=\"1\" class=\"dataframe\">\n",
       "  <thead>\n",
       "    <tr style=\"text-align: right;\">\n",
       "      <th></th>\n",
       "      <th>Metric</th>\n",
       "      <th>Sample size</th>\n",
       "      <th>Pageviews</th>\n",
       "      <th>Duration</th>\n",
       "    </tr>\n",
       "  </thead>\n",
       "  <tbody>\n",
       "    <tr>\n",
       "      <th>0</th>\n",
       "      <td>Gross conversion</td>\n",
       "      <td>51670</td>\n",
       "      <td>645875</td>\n",
       "      <td>16.146875</td>\n",
       "    </tr>\n",
       "    <tr>\n",
       "      <th>1</th>\n",
       "      <td>Retention</td>\n",
       "      <td>78230</td>\n",
       "      <td>4741212</td>\n",
       "      <td>118.530300</td>\n",
       "    </tr>\n",
       "    <tr>\n",
       "      <th>2</th>\n",
       "      <td>Net conversion</td>\n",
       "      <td>54826</td>\n",
       "      <td>685325</td>\n",
       "      <td>17.133125</td>\n",
       "    </tr>\n",
       "  </tbody>\n",
       "</table>\n",
       "</div>"
      ],
      "text/plain": [
       "             Metric  Sample size  Pageviews    Duration\n",
       "0  Gross conversion        51670     645875   16.146875\n",
       "1         Retention        78230    4741212  118.530300\n",
       "2    Net conversion        54826     685325   17.133125"
      ]
     },
     "execution_count": 12,
     "metadata": {},
     "output_type": "execute_result"
    }
   ],
   "source": [
    "sample_sizing['Duration'] = sample_sizing['Pageviews'] / 40000\n",
    "sample_sizing"
   ]
  },
  {
   "cell_type": "markdown",
   "id": "a9c70561",
   "metadata": {},
   "source": [
    "That is, we need about 119 days for the Retention metric and a maximum of 18 days for Gross conversion and Net conversion. It's the too long-running experiment and has some potential risks for business, so we have to remove Retention from our evaluation metrics."
   ]
  },
  {
   "cell_type": "markdown",
   "id": "17cda06b",
   "metadata": {},
   "source": [
    "The duration for Gross conversion and Net conversion is 17 days and 18 days. That is, we need to run the experiment for at least 18 days and the pageview requirement is reduced to 685325."
   ]
  },
  {
   "cell_type": "markdown",
   "id": "a6ade8c6",
   "metadata": {},
   "source": [
    "We also can use only 50% of traffic, then we need 35 days of the experiment. But in this case, is better to run the experiment for a shorter time."
   ]
  },
  {
   "cell_type": "markdown",
   "id": "c0a1f91a",
   "metadata": {},
   "source": [
    "# Experimental Analysis"
   ]
  },
  {
   "cell_type": "markdown",
   "id": "8bd20890",
   "metadata": {},
   "source": [
    "Data, which is used to perform the analysis, contains the raw information needed to compute the above metrics, broken down day by day."
   ]
  },
  {
   "cell_type": "code",
   "execution_count": 14,
   "id": "f4327b25",
   "metadata": {},
   "outputs": [
    {
     "data": {
      "text/html": [
       "<div>\n",
       "<style scoped>\n",
       "    .dataframe tbody tr th:only-of-type {\n",
       "        vertical-align: middle;\n",
       "    }\n",
       "\n",
       "    .dataframe tbody tr th {\n",
       "        vertical-align: top;\n",
       "    }\n",
       "\n",
       "    .dataframe thead th {\n",
       "        text-align: right;\n",
       "    }\n",
       "</style>\n",
       "<table border=\"1\" class=\"dataframe\">\n",
       "  <thead>\n",
       "    <tr style=\"text-align: right;\">\n",
       "      <th></th>\n",
       "      <th>Date</th>\n",
       "      <th>Pageviews</th>\n",
       "      <th>Clicks</th>\n",
       "      <th>Enrollments</th>\n",
       "      <th>Payments</th>\n",
       "    </tr>\n",
       "  </thead>\n",
       "  <tbody>\n",
       "    <tr>\n",
       "      <th>0</th>\n",
       "      <td>Sat, Oct 11</td>\n",
       "      <td>7723</td>\n",
       "      <td>687</td>\n",
       "      <td>134.0</td>\n",
       "      <td>70.0</td>\n",
       "    </tr>\n",
       "    <tr>\n",
       "      <th>1</th>\n",
       "      <td>Sun, Oct 12</td>\n",
       "      <td>9102</td>\n",
       "      <td>779</td>\n",
       "      <td>147.0</td>\n",
       "      <td>70.0</td>\n",
       "    </tr>\n",
       "    <tr>\n",
       "      <th>2</th>\n",
       "      <td>Mon, Oct 13</td>\n",
       "      <td>10511</td>\n",
       "      <td>909</td>\n",
       "      <td>167.0</td>\n",
       "      <td>95.0</td>\n",
       "    </tr>\n",
       "    <tr>\n",
       "      <th>3</th>\n",
       "      <td>Tue, Oct 14</td>\n",
       "      <td>9871</td>\n",
       "      <td>836</td>\n",
       "      <td>156.0</td>\n",
       "      <td>105.0</td>\n",
       "    </tr>\n",
       "    <tr>\n",
       "      <th>4</th>\n",
       "      <td>Wed, Oct 15</td>\n",
       "      <td>10014</td>\n",
       "      <td>837</td>\n",
       "      <td>163.0</td>\n",
       "      <td>64.0</td>\n",
       "    </tr>\n",
       "  </tbody>\n",
       "</table>\n",
       "</div>"
      ],
      "text/plain": [
       "          Date  Pageviews  Clicks  Enrollments  Payments\n",
       "0  Sat, Oct 11       7723     687        134.0      70.0\n",
       "1  Sun, Oct 12       9102     779        147.0      70.0\n",
       "2  Mon, Oct 13      10511     909        167.0      95.0\n",
       "3  Tue, Oct 14       9871     836        156.0     105.0\n",
       "4  Wed, Oct 15      10014     837        163.0      64.0"
      ]
     },
     "execution_count": 14,
     "metadata": {},
     "output_type": "execute_result"
    }
   ],
   "source": [
    "# load data of control group\n",
    "# link source - https://docs.google.com/spreadsheets/d/1Mu5u9GrybDdska-ljPXyBjTpdZIUev_6i7t4LRDfXM8/edit#gid=0\n",
    "control = pd.read_csv(\"Control.csv\", sep=',')\n",
    "control.head()"
   ]
  },
  {
   "cell_type": "code",
   "execution_count": 15,
   "id": "2a9bf7f0",
   "metadata": {},
   "outputs": [
    {
     "name": "stdout",
     "output_type": "stream",
     "text": [
      "<class 'pandas.core.frame.DataFrame'>\n",
      "RangeIndex: 37 entries, 0 to 36\n",
      "Data columns (total 5 columns):\n",
      " #   Column       Non-Null Count  Dtype  \n",
      "---  ------       --------------  -----  \n",
      " 0   Date         37 non-null     object \n",
      " 1   Pageviews    37 non-null     int64  \n",
      " 2   Clicks       37 non-null     int64  \n",
      " 3   Enrollments  23 non-null     float64\n",
      " 4   Payments     23 non-null     float64\n",
      "dtypes: float64(2), int64(2), object(1)\n",
      "memory usage: 1.6+ KB\n"
     ]
    }
   ],
   "source": [
    "control.info()"
   ]
  },
  {
   "cell_type": "code",
   "execution_count": 16,
   "id": "9a5e0b3f",
   "metadata": {},
   "outputs": [
    {
     "data": {
      "text/html": [
       "<div>\n",
       "<style scoped>\n",
       "    .dataframe tbody tr th:only-of-type {\n",
       "        vertical-align: middle;\n",
       "    }\n",
       "\n",
       "    .dataframe tbody tr th {\n",
       "        vertical-align: top;\n",
       "    }\n",
       "\n",
       "    .dataframe thead th {\n",
       "        text-align: right;\n",
       "    }\n",
       "</style>\n",
       "<table border=\"1\" class=\"dataframe\">\n",
       "  <thead>\n",
       "    <tr style=\"text-align: right;\">\n",
       "      <th></th>\n",
       "      <th>Date</th>\n",
       "      <th>Pageviews</th>\n",
       "      <th>Clicks</th>\n",
       "      <th>Enrollments</th>\n",
       "      <th>Payments</th>\n",
       "    </tr>\n",
       "  </thead>\n",
       "  <tbody>\n",
       "    <tr>\n",
       "      <th>0</th>\n",
       "      <td>Sat, Oct 11</td>\n",
       "      <td>7716</td>\n",
       "      <td>686</td>\n",
       "      <td>105.0</td>\n",
       "      <td>34.0</td>\n",
       "    </tr>\n",
       "    <tr>\n",
       "      <th>1</th>\n",
       "      <td>Sun, Oct 12</td>\n",
       "      <td>9288</td>\n",
       "      <td>785</td>\n",
       "      <td>116.0</td>\n",
       "      <td>91.0</td>\n",
       "    </tr>\n",
       "    <tr>\n",
       "      <th>2</th>\n",
       "      <td>Mon, Oct 13</td>\n",
       "      <td>10480</td>\n",
       "      <td>884</td>\n",
       "      <td>145.0</td>\n",
       "      <td>79.0</td>\n",
       "    </tr>\n",
       "    <tr>\n",
       "      <th>3</th>\n",
       "      <td>Tue, Oct 14</td>\n",
       "      <td>9867</td>\n",
       "      <td>827</td>\n",
       "      <td>138.0</td>\n",
       "      <td>92.0</td>\n",
       "    </tr>\n",
       "    <tr>\n",
       "      <th>4</th>\n",
       "      <td>Wed, Oct 15</td>\n",
       "      <td>9793</td>\n",
       "      <td>832</td>\n",
       "      <td>140.0</td>\n",
       "      <td>94.0</td>\n",
       "    </tr>\n",
       "  </tbody>\n",
       "</table>\n",
       "</div>"
      ],
      "text/plain": [
       "          Date  Pageviews  Clicks  Enrollments  Payments\n",
       "0  Sat, Oct 11       7716     686        105.0      34.0\n",
       "1  Sun, Oct 12       9288     785        116.0      91.0\n",
       "2  Mon, Oct 13      10480     884        145.0      79.0\n",
       "3  Tue, Oct 14       9867     827        138.0      92.0\n",
       "4  Wed, Oct 15       9793     832        140.0      94.0"
      ]
     },
     "execution_count": 16,
     "metadata": {},
     "output_type": "execute_result"
    }
   ],
   "source": [
    "# load data of experiment group\n",
    "# link source - https://docs.google.com/spreadsheets/d/1Mu5u9GrybDdska-ljPXyBjTpdZIUev_6i7t4LRDfXM8/edit#gid=0\n",
    "experiment = pd.read_csv(\"Experiment.csv\", sep=',')\n",
    "experiment.head()"
   ]
  },
  {
   "cell_type": "code",
   "execution_count": 17,
   "id": "316f66f7",
   "metadata": {},
   "outputs": [
    {
     "name": "stdout",
     "output_type": "stream",
     "text": [
      "<class 'pandas.core.frame.DataFrame'>\n",
      "RangeIndex: 37 entries, 0 to 36\n",
      "Data columns (total 5 columns):\n",
      " #   Column       Non-Null Count  Dtype  \n",
      "---  ------       --------------  -----  \n",
      " 0   Date         37 non-null     object \n",
      " 1   Pageviews    37 non-null     int64  \n",
      " 2   Clicks       37 non-null     int64  \n",
      " 3   Enrollments  23 non-null     float64\n",
      " 4   Payments     23 non-null     float64\n",
      "dtypes: float64(2), int64(2), object(1)\n",
      "memory usage: 1.6+ KB\n"
     ]
    }
   ],
   "source": [
    "experiment.info()"
   ]
  },
  {
   "cell_type": "markdown",
   "id": "7741e5ae",
   "metadata": {},
   "source": [
    "## Sanity Checks for invariant metrics"
   ]
  },
  {
   "cell_type": "markdown",
   "id": "775958ca",
   "metadata": {},
   "source": [
    "I will conduct a sanity check to verify the invariant metrics are equivalent between the two groups, that is, the experiment was conducted as expected and that other factors did not influence the data we collected."
   ]
  },
  {
   "cell_type": "markdown",
   "id": "4714bc17",
   "metadata": {},
   "source": [
    "### Sanity Check for metric Number of cookies"
   ]
  },
  {
   "cell_type": "markdown",
   "id": "44817f44",
   "metadata": {},
   "source": [
    "That is, a number of unique cookies to view the course overview page.\n",
    "\n",
    "I expect that the total number of cookies in the control group and the experiment group each account for 50% of the total number of cookies."
   ]
  },
  {
   "cell_type": "markdown",
   "id": "b8521d6b",
   "metadata": {},
   "source": [
    "We must first count the number of cookies in the control and experimental groups:"
   ]
  },
  {
   "cell_type": "code",
   "execution_count": 18,
   "id": "9da351c3",
   "metadata": {},
   "outputs": [
    {
     "data": {
      "text/plain": [
       "345543"
      ]
     },
     "execution_count": 18,
     "metadata": {},
     "output_type": "execute_result"
    }
   ],
   "source": [
    "control_views = control.Pageviews.sum()\n",
    "control_views"
   ]
  },
  {
   "cell_type": "code",
   "execution_count": 19,
   "id": "1263afff",
   "metadata": {},
   "outputs": [
    {
     "data": {
      "text/plain": [
       "344660"
      ]
     },
     "execution_count": 19,
     "metadata": {},
     "output_type": "execute_result"
    }
   ],
   "source": [
    "experiment_views = experiment.Pageviews.sum()\n",
    "experiment_views"
   ]
  },
  {
   "cell_type": "code",
   "execution_count": 20,
   "id": "fc9fd48b",
   "metadata": {},
   "outputs": [
    {
     "name": "stdout",
     "output_type": "stream",
     "text": [
      "The confidence interval is  0.4988 and 0.5012 \n",
      "Observed is  0.5006\n"
     ]
    }
   ],
   "source": [
    "# Calculate the 95% confidence interval (z-score = 1.96) \n",
    "# Compute SD of binomial distribution with 50% chance of placement in one of the groups\n",
    "p=0.5\n",
    "SD_views=mt.sqrt((p*(1-p)/(control_views + experiment_views)))\n",
    "# Calculate margin of error\n",
    "ME1=1.96*SD_views\n",
    "# Check that observed fraction is within interval\n",
    "observed =control_views/(control_views + experiment_views)\n",
    "print (\"The confidence interval is \",round(p-ME1,4),\"and\",round(p+ME1,4),\"\\nObserved is \", round(observed,4))"
   ]
  },
  {
   "cell_type": "markdown",
   "id": "67ebef25",
   "metadata": {},
   "source": [
    "### Sanity Check for metric Number of clicks"
   ]
  },
  {
   "cell_type": "code",
   "execution_count": 21,
   "id": "2a2ee849",
   "metadata": {},
   "outputs": [
    {
     "data": {
      "text/plain": [
       "28378"
      ]
     },
     "execution_count": 21,
     "metadata": {},
     "output_type": "execute_result"
    }
   ],
   "source": [
    "control_clicks = control.Clicks.sum()\n",
    "control_clicks"
   ]
  },
  {
   "cell_type": "code",
   "execution_count": 22,
   "id": "9c35cbac",
   "metadata": {},
   "outputs": [
    {
     "data": {
      "text/plain": [
       "28325"
      ]
     },
     "execution_count": 22,
     "metadata": {},
     "output_type": "execute_result"
    }
   ],
   "source": [
    "experiment_clicks = experiment.Clicks.sum()\n",
    "experiment_clicks"
   ]
  },
  {
   "cell_type": "code",
   "execution_count": 23,
   "id": "645c5fe6",
   "metadata": {},
   "outputs": [
    {
     "name": "stdout",
     "output_type": "stream",
     "text": [
      "The confidence interval is  0.4959 and 0.5041 \n",
      "Observed is  0.5005\n"
     ]
    }
   ],
   "source": [
    "# Calculate the 95% confidence interval (z-score = 1.96)\n",
    "# Compute SD of binomial distribution with 50% chance of placement in one of the groups\n",
    "p=0.5\n",
    "SD_clicks=mt.sqrt((p*(1-p)/(control_clicks + experiment_clicks)))\n",
    "# Calculate margin of error\n",
    "ME2=1.96*SD_clicks\n",
    "# Check that observed fraction is within interval\n",
    "observed = control_clicks /(control_clicks + experiment_clicks)\n",
    "print (\"The confidence interval is \",round(p-ME2,4),\"and\",round(p+ME2,4),\"\\nObserved is \", round(observed,4))"
   ]
  },
  {
   "cell_type": "markdown",
   "id": "55aaed46",
   "metadata": {},
   "source": [
    "### Sanity Check for metric Click-through-probability (CTP)"
   ]
  },
  {
   "cell_type": "markdown",
   "id": "a457214b",
   "metadata": {},
   "source": [
    "Click-through-probability of the Free Trial Button.\n",
    "\n",
    "To perform a sanity check for the CTP, we would expect the difference between the two groups to be zero (CTP_exp - CTP_control = 0). The calculation of the standard error is through the pooled standard error between the experiment and control group. We must first count the number of cookies in the control and experimental groups:"
   ]
  },
  {
   "cell_type": "code",
   "execution_count": 24,
   "id": "301fbca7",
   "metadata": {},
   "outputs": [
    {
     "name": "stdout",
     "output_type": "stream",
     "text": [
      "The confidence interval is  -0.0013 and 0.0013 \n",
      "Observed is  0.0001\n"
     ]
    }
   ],
   "source": [
    "ctp_control = control_clicks/control_views \n",
    "ctp_exp = experiment_clicks/experiment_views\n",
    "d_hat = ctp_exp-ctp_control \n",
    "# pooled standard error between experiment and control group.\n",
    "ctp_pool = (control_clicks + experiment_clicks)/(control_views + experiment_views)\n",
    "# standard error\n",
    "SE_ctp=mt.sqrt(ctp_pool*(1-ctp_pool)*(1/control_views + 1/experiment_views))\n",
    "# Calculate margin of error\n",
    "ME3=1.96*SE_ctp\n",
    "print(\"The confidence interval is \",round(-ME3,4),\"and\",round(ME3,4),\"\\nObserved is \", round(d_hat,4))"
   ]
  },
  {
   "cell_type": "markdown",
   "id": "0c6a737f",
   "metadata": {},
   "source": [
    "All three invariant metrics (Number of cookies, Number of clicks and CTP) passed the sanity check."
   ]
  },
  {
   "cell_type": "markdown",
   "id": "a7e982dd",
   "metadata": {},
   "source": [
    "## Result Analysis"
   ]
  },
  {
   "cell_type": "markdown",
   "id": "7fd923b7",
   "metadata": {},
   "source": [
    "### Effective Size Test"
   ]
  },
  {
   "cell_type": "markdown",
   "id": "96083796",
   "metadata": {},
   "source": [
    "In this test for each of the evaluation metrics, I give a 95% confidence interval around the difference between the experiment and control groups. Also, I indicate whether each metric is statistically and practically significant.\n",
    "\n",
    "A metric is statistically significant if the confidence interval does not include 0 (that is, you can be confident there was a change), and it is practically significant if the confidence interval does not include the practical significance boundary (that is, you can be confident there is a change that matters to the business.)"
   ]
  },
  {
   "cell_type": "markdown",
   "id": "fb380426",
   "metadata": {},
   "source": [
    "<b> Gross conversion </b>"
   ]
  },
  {
   "cell_type": "code",
   "execution_count": 25,
   "id": "f124b4da",
   "metadata": {},
   "outputs": [],
   "source": [
    "#use only records of clicks that have both clicks and enrollments\n",
    "clicks_control = control.Clicks.loc[control.Enrollments.notna()].sum()\n",
    "clicks_exp = experiment.Clicks.loc[experiment.Enrollments.notna()].sum()\n",
    "\n",
    "enrollments_control = control.Enrollments.sum()\n",
    "enrollments_exp =experiment.Enrollments.sum()"
   ]
  },
  {
   "cell_type": "code",
   "execution_count": 26,
   "id": "8961b638",
   "metadata": {},
   "outputs": [],
   "source": [
    "# calculate gross conversion\n",
    "GC_control =  enrollments_control/clicks_control\n",
    "GC_exp = enrollments_exp/clicks_exp"
   ]
  },
  {
   "cell_type": "code",
   "execution_count": 27,
   "id": "6cad064c",
   "metadata": {},
   "outputs": [
    {
     "name": "stdout",
     "output_type": "stream",
     "text": [
      "Confidence Interval: [ -0.0292 , -0.012 ]\n",
      "Observed: -0.0206\n",
      "Statistically significant: True\n",
      "Practically significant: True\n"
     ]
    }
   ],
   "source": [
    "# calculate pooled probability\n",
    "p_pool = (enrollments_control + enrollments_exp)/(clicks_control + clicks_exp)\n",
    "\n",
    "#calculate pooled standard deviation:\n",
    "SD_pool = mt.sqrt(p_pool*(1-p_pool)*(1/clicks_control + 1/clicks_exp))\n",
    "\n",
    "# calculate margin of errors for 95% confidence interval (Z-score = 1.96)\n",
    "m = round ((1.96 * SD_pool), 4)\n",
    "\n",
    "#calculate the practical significance difference\n",
    "d_hat1 = round((enrollments_exp/clicks_exp - enrollments_control/clicks_control), 4)\n",
    "\n",
    "#Results\n",
    "print(\"Confidence Interval: [\",d_hat1-m,\",\",d_hat1+m,\"]\")\n",
    "print(\"Observed:\",d_hat1)\n",
    "print (\"Statistically significant:\", not(d_hat1-m<0<d_hat1-m))\n",
    "d_min=0.01\n",
    "print(\"Practically significant:\", not(d_hat1-m <d_min<d_hat1+m or d_hat1-m <-d_min<d_hat1+m))"
   ]
  },
  {
   "cell_type": "markdown",
   "id": "8124ccaf",
   "metadata": {},
   "source": [
    "There was a statistically and practically significant change as a result of the experiment -> I got a negative change of 2%. This means that in the experimental group (those who were asked how many hours they could learn) the gross conversion rate went down, meaning that fewer people signed up for the free trial after the changes."
   ]
  },
  {
   "cell_type": "markdown",
   "id": "c8d94828",
   "metadata": {},
   "source": [
    "<b> Net Conversion </b>"
   ]
  },
  {
   "cell_type": "code",
   "execution_count": 28,
   "id": "01a71b01",
   "metadata": {},
   "outputs": [],
   "source": [
    "#use records of payments\n",
    "payments_control = control.Payments.sum()\n",
    "payments_exp = experiment.Payments.sum()"
   ]
  },
  {
   "cell_type": "code",
   "execution_count": 29,
   "id": "e65f0fc6",
   "metadata": {},
   "outputs": [],
   "source": [
    "# calculate Net Conversion\n",
    "Net_C_control =  payments_control/clicks_control\n",
    "Net_C_exp = payments_exp/clicks_exp"
   ]
  },
  {
   "cell_type": "code",
   "execution_count": 30,
   "id": "883430d7",
   "metadata": {},
   "outputs": [
    {
     "name": "stdout",
     "output_type": "stream",
     "text": [
      "Confidence Interval: [ -0.0116 , 0.0018000000000000004 ]\n",
      "Observed: -0.0049\n",
      "Statistically significant: False\n",
      "Practically significant: False\n"
     ]
    }
   ],
   "source": [
    "# calculate pooled probability\n",
    "p_pool2 = (payments_control + payments_exp)/(clicks_control + clicks_exp)\n",
    "\n",
    "#calculate pooled standard deviation:\n",
    "SD_pool2 = mt.sqrt(p_pool2*(1-p_pool2)*(1/clicks_control + 1/clicks_exp))\n",
    "\n",
    "# calculate margin of errors for 95% confidence interval (Z-score = 1.96)\n",
    "m2 = round(1.96 * SD_pool2,4)\n",
    "\n",
    "#calculate the practical significance difference\n",
    "d_hat2 = round((payments_exp/clicks_exp - payments_control/clicks_control), 4)\n",
    "\n",
    "#Results\n",
    "print(\"Confidence Interval: [\",d_hat2-m2,\",\",d_hat2+m2,\"]\")\n",
    "print(\"Observed:\",d_hat2)\n",
    "print (\"Statistically significant:\", not(d_hat2-m2< 0 <d_hat2+m2))\n",
    "d_min = 0.0075\n",
    "print(\"Practically significant:\", not(d_hat2-m2 <d_min<d_hat2+m2 or d_hat2-m2 <-d_min<d_hat2+m2))"
   ]
  },
  {
   "cell_type": "markdown",
   "id": "b91dadf2",
   "metadata": {},
   "source": [
    "For metric Net Conversion the confidence interval include both 0 and negative dmin, , that is, the difference between control and experiment groups is insignificant."
   ]
  },
  {
   "cell_type": "markdown",
   "id": "cb683ad7",
   "metadata": {},
   "source": [
    "### Sign Test"
   ]
  },
  {
   "cell_type": "markdown",
   "id": "5c7f7ed2",
   "metadata": {},
   "source": [
    "The sign test is also a method to validate the result of the experiment to check the signs of the difference in the metrics between the experiment and control groups with the confidence interval of the difference.\n",
    "\n",
    "For each evaluation metric, do a sign test using the day-by-day breakdown. I need to calculate the evaluation metric per day and then count how many days the metric was lower in the experimental group, and this will be the number of good days. Then I need to check the proportion of good days from all days."
   ]
  },
  {
   "cell_type": "markdown",
   "id": "34b50552",
   "metadata": {},
   "source": [
    "<b> Gross conversion </b>"
   ]
  },
  {
   "cell_type": "code",
   "execution_count": 31,
   "id": "24a5d660",
   "metadata": {},
   "outputs": [
    {
     "data": {
      "text/plain": [
       "23"
      ]
     },
     "execution_count": 31,
     "metadata": {},
     "output_type": "execute_result"
    }
   ],
   "source": [
    "days = experiment.Clicks.loc[experiment.Enrollments.notna()].count()\n",
    "days"
   ]
  },
  {
   "cell_type": "code",
   "execution_count": 32,
   "id": "d99d2780",
   "metadata": {},
   "outputs": [],
   "source": [
    "gc_exp = [i/j for i,j in zip(experiment.Enrollments,experiment.Clicks.loc[experiment.Enrollments.notna()])]\n",
    "gc_cont=[i/j for i,j in zip(control.Enrollments,control.Clicks.loc[control.Enrollments.notna()])]\n",
    "gc_diff=sum([i>j for i,j in zip(gc_exp,gc_cont)])"
   ]
  },
  {
   "cell_type": "code",
   "execution_count": 33,
   "id": "016a5c4f",
   "metadata": {},
   "outputs": [
    {
     "name": "stdout",
     "output_type": "stream",
     "text": [
      "4 times\n",
      "p-value: 0.0026 , Statistically Significant: True\n"
     ]
    }
   ],
   "source": [
    "from scipy.stats import binom_test\n",
    "alpha=0.05 # condition from part Design of Experiment -> Sizing \n",
    "\n",
    "# The prob of gross conversion of experiment group > gross conversion of control group is 0.5\n",
    "p_value1 = binom_test(gc_diff, n=days, p=0.5)\n",
    "print (gc_diff, 'times')\n",
    "print(\"p-value:\",round(p_value1,4),\", Statistically Significant:\",p_value1 < alpha)"
   ]
  },
  {
   "cell_type": "markdown",
   "id": "0a50221d",
   "metadata": {},
   "source": [
    "For metric Gross Conversion, rates from the experience group are higher than control groups for 4 times; p-value=0.0026 and significant."
   ]
  },
  {
   "cell_type": "markdown",
   "id": "ae698bfb",
   "metadata": {},
   "source": [
    "<b> Net Conversion </b>"
   ]
  },
  {
   "cell_type": "code",
   "execution_count": 34,
   "id": "3aef44f6",
   "metadata": {},
   "outputs": [
    {
     "data": {
      "text/plain": [
       "23"
      ]
     },
     "execution_count": 34,
     "metadata": {},
     "output_type": "execute_result"
    }
   ],
   "source": [
    "n_days = experiment.Payments.count()\n",
    "n_days"
   ]
  },
  {
   "cell_type": "code",
   "execution_count": 35,
   "id": "b0b6150e",
   "metadata": {},
   "outputs": [],
   "source": [
    "nc_exp = [i/j for i,j in zip(experiment.Payments,experiment.Clicks.loc[experiment.Payments.notna()])]\n",
    "nc_cont=[i/j for i,j in zip(control.Payments,control.Clicks.loc[control.Payments.notna()])]\n",
    "nc_diff=sum([i>j for i,j in zip(nc_exp,nc_cont)])"
   ]
  },
  {
   "cell_type": "code",
   "execution_count": 36,
   "id": "a1737930",
   "metadata": {},
   "outputs": [
    {
     "name": "stdout",
     "output_type": "stream",
     "text": [
      "10 times\n",
      "p-value: 0.6776 , Statistically Significant: False\n"
     ]
    }
   ],
   "source": [
    "# The prob of gross conversion of experiment group > gross conversion of control group is 0.5\n",
    "p_value2 = binom_test(nc_diff, n=days, p=0.5)\n",
    "print (nc_diff, 'times')\n",
    "print(\"p-value:\",round(p_value2,4),\", Statistically Significant:\",p_value2 < alpha)"
   ]
  },
  {
   "cell_type": "markdown",
   "id": "152ce5c1",
   "metadata": {},
   "source": [
    "For metric Net Conversion, rates from the experience group are higher than the control group 10 times; p-value=0.6776, but is not significant."
   ]
  },
  {
   "cell_type": "markdown",
   "id": "43e6277b",
   "metadata": {},
   "source": [
    "## Recommendation"
   ]
  },
  {
   "cell_type": "markdown",
   "id": "dd46836f",
   "metadata": {},
   "source": [
    "The result of the experiment shows that the Gross Conversion will decrease significantly, that is, the number of students to complete checkout and enroll in the free trial will be reduced. \n",
    "\n",
    "But, this experiment also shows no significant change in other metric, Net conversion. So, the page change will help reduce the number of enrollments in the free trial but was unrelated to the increase in the number of students remaining in the 14 days of the trial period required to receive payment.\n",
    "\n",
    "I would not recommend running this change but make other experiments."
   ]
  }
 ],
 "metadata": {
  "kernelspec": {
   "display_name": "Python 3 (ipykernel)",
   "language": "python",
   "name": "python3"
  },
  "language_info": {
   "codemirror_mode": {
    "name": "ipython",
    "version": 3
   },
   "file_extension": ".py",
   "mimetype": "text/x-python",
   "name": "python",
   "nbconvert_exporter": "python",
   "pygments_lexer": "ipython3",
   "version": "3.10.8"
  }
 },
 "nbformat": 4,
 "nbformat_minor": 5
}
